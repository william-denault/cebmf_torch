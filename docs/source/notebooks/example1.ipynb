{
 "cells": [
  {
   "cell_type": "markdown",
   "id": "2007cef6",
   "metadata": {},
   "source": [
    "# Example Notebook 1"
   ]
  },
  {
   "cell_type": "code",
   "execution_count": null,
   "id": "e967e759",
   "metadata": {
    "vscode": {
     "languageId": "plaintext"
    }
   },
   "outputs": [],
   "source": [
    "import numpy as np\n",
    "import matplotlib.pyplot as plt"
   ]
  }
 ],
 "metadata": {
  "language_info": {
   "name": "python"
  }
 },
 "nbformat": 4,
 "nbformat_minor": 5
}
