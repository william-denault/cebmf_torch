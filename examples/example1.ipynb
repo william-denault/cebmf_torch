{
 "cells": [
  {
   "cell_type": "markdown",
   "id": "2007cef6",
   "metadata": {},
   "source": [
    "# Example Notebook 1"
   ]
  },
  {
   "cell_type": "code",
   "execution_count": null,
   "id": "e967e759",
   "metadata": {
    "vscode": {
     "languageId": "plaintext"
    }
   },
   "outputs": [],
   "source": [
    "import numpy as np\n",
    "import matplotlib.pyplot as plt"
   ]
  },
  {
   "cell_type": "markdown",
   "id": "e86c4bd6",
   "metadata": {},
   "source": [
    "Here I am adding some text. Suppose I have a variable $x$, then\n",
    "\n",
    "$$\n",
    "y = ax + b\n",
    "$$\n"
   ]
  },
  {
   "cell_type": "code",
   "execution_count": null,
   "id": "6a213a51",
   "metadata": {
    "vscode": {
     "languageId": "plaintext"
    }
   },
   "outputs": [],
   "source": [
    "x = np.linspace(0, 1, 100)\n",
    "a = 1\n",
    "b = 2\n",
    "y = a * x + b"
   ]
  },
  {
   "cell_type": "markdown",
   "id": "1100f965",
   "metadata": {},
   "source": [
    "That was my example."
   ]
  }
 ],
 "metadata": {
  "language_info": {
   "name": "python"
  }
 },
 "nbformat": 4,
 "nbformat_minor": 5
}
